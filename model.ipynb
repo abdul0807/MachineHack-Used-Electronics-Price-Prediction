{
 "cells": [
  {
   "cell_type": "markdown",
   "metadata": {
    "toc": true
   },
   "source": [
    "<h1>Table of Contents<span class=\"tocSkip\"></span></h1>\n",
    "<div class=\"toc\"><ul class=\"toc-item\"><li><span><a href=\"#loading-data\" data-toc-modified-id=\"loading-data-1\"><span class=\"toc-item-num\">1&nbsp;&nbsp;</span>loading data</a></span></li><li><span><a href=\"#feature-engineering\" data-toc-modified-id=\"feature-engineering-2\"><span class=\"toc-item-num\">2&nbsp;&nbsp;</span>feature engineering</a></span></li><li><span><a href=\"#cross-validation\" data-toc-modified-id=\"cross-validation-3\"><span class=\"toc-item-num\">3&nbsp;&nbsp;</span>cross validation</a></span></li><li><span><a href=\"#submission\" data-toc-modified-id=\"submission-4\"><span class=\"toc-item-num\">4&nbsp;&nbsp;</span>submission</a></span></li></ul></div>"
   ]
  },
  {
   "cell_type": "code",
   "execution_count": 1,
   "metadata": {},
   "outputs": [],
   "source": [
    "%matplotlib inline\n",
    "\n",
    "import pandas as pd\n",
    "import numpy as np\n",
    "from sklearn.model_selection import train_test_split\n",
    "\n",
    "import warnings\n",
    "warnings.filterwarnings(\"ignore\")\n",
    "\n",
    "def scoring(y_true, y_pred):\n",
    "    from sklearn.metrics import mean_squared_error, mean_squared_log_error\n",
    "\n",
    "    return np.sqrt(mean_squared_error(y_true, y_pred))"
   ]
  },
  {
   "cell_type": "markdown",
   "metadata": {},
   "source": [
    "### loading data"
   ]
  },
  {
   "cell_type": "code",
   "execution_count": 2,
   "metadata": {},
   "outputs": [
    {
     "name": "stdout",
     "output_type": "stream",
     "text": [
      "(2326, 7)\n"
     ]
    },
    {
     "data": {
      "text/html": [
       "<div>\n",
       "<style scoped>\n",
       "    .dataframe tbody tr th:only-of-type {\n",
       "        vertical-align: middle;\n",
       "    }\n",
       "\n",
       "    .dataframe tbody tr th {\n",
       "        vertical-align: top;\n",
       "    }\n",
       "\n",
       "    .dataframe thead th {\n",
       "        text-align: right;\n",
       "    }\n",
       "</style>\n",
       "<table border=\"1\" class=\"dataframe\">\n",
       "  <thead>\n",
       "    <tr style=\"text-align: right;\">\n",
       "      <th></th>\n",
       "      <th>Brand</th>\n",
       "      <th>Model_Info</th>\n",
       "      <th>Additional_Description</th>\n",
       "      <th>Locality</th>\n",
       "      <th>City</th>\n",
       "      <th>State</th>\n",
       "      <th>Price</th>\n",
       "    </tr>\n",
       "  </thead>\n",
       "  <tbody>\n",
       "    <tr>\n",
       "      <th>0</th>\n",
       "      <td>1</td>\n",
       "      <td>name0 name234 64gb space grey</td>\n",
       "      <td>1yesr old mobile number 999two905two99 bill c...</td>\n",
       "      <td>878</td>\n",
       "      <td>8</td>\n",
       "      <td>2</td>\n",
       "      <td>15000</td>\n",
       "    </tr>\n",
       "    <tr>\n",
       "      <th>1</th>\n",
       "      <td>1</td>\n",
       "      <td>phone 7 name42 name453 new condition box acce...</td>\n",
       "      <td>101004800 1010065900 7000</td>\n",
       "      <td>1081</td>\n",
       "      <td>4</td>\n",
       "      <td>0</td>\n",
       "      <td>18800</td>\n",
       "    </tr>\n",
       "    <tr>\n",
       "      <th>2</th>\n",
       "      <td>1</td>\n",
       "      <td>name0 x 256gb leess used good condition</td>\n",
       "      <td>1010010000 seperate screen guard 3 back cover...</td>\n",
       "      <td>495</td>\n",
       "      <td>11</td>\n",
       "      <td>4</td>\n",
       "      <td>50000</td>\n",
       "    </tr>\n",
       "    <tr>\n",
       "      <th>3</th>\n",
       "      <td>1</td>\n",
       "      <td>name0 6s plus 64 gb space grey</td>\n",
       "      <td>without 1010020100 id 1010010300 colour 10100...</td>\n",
       "      <td>287</td>\n",
       "      <td>10</td>\n",
       "      <td>7</td>\n",
       "      <td>16500</td>\n",
       "    </tr>\n",
       "    <tr>\n",
       "      <th>4</th>\n",
       "      <td>1</td>\n",
       "      <td>phone 7 sealed pack brand new factory outet p...</td>\n",
       "      <td>101008700 10100000 xs max 64 gb made 10100850...</td>\n",
       "      <td>342</td>\n",
       "      <td>4</td>\n",
       "      <td>0</td>\n",
       "      <td>26499</td>\n",
       "    </tr>\n",
       "  </tbody>\n",
       "</table>\n",
       "</div>"
      ],
      "text/plain": [
       "   Brand                                         Model_Info  \\\n",
       "0      1                      name0 name234 64gb space grey   \n",
       "1      1   phone 7 name42 name453 new condition box acce...   \n",
       "2      1            name0 x 256gb leess used good condition   \n",
       "3      1                     name0 6s plus 64 gb space grey   \n",
       "4      1   phone 7 sealed pack brand new factory outet p...   \n",
       "\n",
       "                              Additional_Description  Locality  City  State  \\\n",
       "0   1yesr old mobile number 999two905two99 bill c...       878     8      2   \n",
       "1                          101004800 1010065900 7000      1081     4      0   \n",
       "2   1010010000 seperate screen guard 3 back cover...       495    11      4   \n",
       "3   without 1010020100 id 1010010300 colour 10100...       287    10      7   \n",
       "4   101008700 10100000 xs max 64 gb made 10100850...       342     4      0   \n",
       "\n",
       "   Price  \n",
       "0  15000  \n",
       "1  18800  \n",
       "2  50000  \n",
       "3  16500  \n",
       "4  26499  "
      ]
     },
     "execution_count": 2,
     "metadata": {},
     "output_type": "execute_result"
    }
   ],
   "source": [
    "train = pd.read_csv(\"Train.csv\", index_col=None)\n",
    "print(train.shape)\n",
    "train.head()"
   ]
  },
  {
   "cell_type": "code",
   "execution_count": 3,
   "metadata": {},
   "outputs": [
    {
     "name": "stdout",
     "output_type": "stream",
     "text": [
      "(997, 6)\n"
     ]
    },
    {
     "data": {
      "text/html": [
       "<div>\n",
       "<style scoped>\n",
       "    .dataframe tbody tr th:only-of-type {\n",
       "        vertical-align: middle;\n",
       "    }\n",
       "\n",
       "    .dataframe tbody tr th {\n",
       "        vertical-align: top;\n",
       "    }\n",
       "\n",
       "    .dataframe thead th {\n",
       "        text-align: right;\n",
       "    }\n",
       "</style>\n",
       "<table border=\"1\" class=\"dataframe\">\n",
       "  <thead>\n",
       "    <tr style=\"text-align: right;\">\n",
       "      <th></th>\n",
       "      <th>Brand</th>\n",
       "      <th>Model_Info</th>\n",
       "      <th>Additional_Description</th>\n",
       "      <th>Locality</th>\n",
       "      <th>City</th>\n",
       "      <th>State</th>\n",
       "    </tr>\n",
       "  </thead>\n",
       "  <tbody>\n",
       "    <tr>\n",
       "      <th>0</th>\n",
       "      <td>1</td>\n",
       "      <td>name0 55s66s66s778xxsxsmax etc</td>\n",
       "      <td>good condition 11months old single scratch we...</td>\n",
       "      <td>570</td>\n",
       "      <td>11</td>\n",
       "      <td>4</td>\n",
       "    </tr>\n",
       "    <tr>\n",
       "      <th>1</th>\n",
       "      <td>1</td>\n",
       "      <td>slightly used excellent condition name0 5 sale</td>\n",
       "      <td>101008700 1010030600 1010034300 10100192200 1...</td>\n",
       "      <td>762</td>\n",
       "      <td>8</td>\n",
       "      <td>2</td>\n",
       "    </tr>\n",
       "    <tr>\n",
       "      <th>2</th>\n",
       "      <td>1</td>\n",
       "      <td>name0 sx ios12 top letast model bill call</td>\n",
       "      <td>1010017300 delivery</td>\n",
       "      <td>60</td>\n",
       "      <td>13</td>\n",
       "      <td>5</td>\n",
       "    </tr>\n",
       "    <tr>\n",
       "      <th>3</th>\n",
       "      <td>1</td>\n",
       "      <td>name87 name0 x 64gb going lowest 41900</td>\n",
       "      <td>phone 1010023400 64 gb excellent condition sale</td>\n",
       "      <td>640</td>\n",
       "      <td>15</td>\n",
       "      <td>5</td>\n",
       "    </tr>\n",
       "    <tr>\n",
       "      <th>4</th>\n",
       "      <td>1</td>\n",
       "      <td>name0 5s proper condition one handedly used</td>\n",
       "      <td>full kit available 10100248300 condition 4gb ...</td>\n",
       "      <td>816</td>\n",
       "      <td>2</td>\n",
       "      <td>6</td>\n",
       "    </tr>\n",
       "  </tbody>\n",
       "</table>\n",
       "</div>"
      ],
      "text/plain": [
       "   Brand                                       Model_Info  \\\n",
       "0      1                   name0 55s66s66s778xxsxsmax etc   \n",
       "1      1   slightly used excellent condition name0 5 sale   \n",
       "2      1        name0 sx ios12 top letast model bill call   \n",
       "3      1           name87 name0 x 64gb going lowest 41900   \n",
       "4      1      name0 5s proper condition one handedly used   \n",
       "\n",
       "                              Additional_Description  Locality  City  State  \n",
       "0   good condition 11months old single scratch we...       570    11      4  \n",
       "1   101008700 1010030600 1010034300 10100192200 1...       762     8      2  \n",
       "2                                1010017300 delivery        60    13      5  \n",
       "3    phone 1010023400 64 gb excellent condition sale       640    15      5  \n",
       "4   full kit available 10100248300 condition 4gb ...       816     2      6  "
      ]
     },
     "execution_count": 3,
     "metadata": {},
     "output_type": "execute_result"
    }
   ],
   "source": [
    "test = pd.read_csv(\"Test.csv\", index_col=None)\n",
    "print(test.shape)\n",
    "test.head()"
   ]
  },
  {
   "cell_type": "code",
   "execution_count": 4,
   "metadata": {},
   "outputs": [
    {
     "name": "stdout",
     "output_type": "stream",
     "text": [
      "cat cols ['Brand', 'Model_Info', 'Additional_Description', 'Locality', 'City', 'State']\n"
     ]
    }
   ],
   "source": [
    "target = 'Price'\n",
    "cat_cols = ['Brand', 'Model_Info', 'Additional_Description', 'Locality', 'City', 'State']\n",
    "print(\"cat cols {}\".format(cat_cols))"
   ]
  },
  {
   "cell_type": "code",
   "execution_count": 5,
   "metadata": {},
   "outputs": [],
   "source": [
    "train[target] = np.log(train[target])"
   ]
  },
  {
   "cell_type": "markdown",
   "metadata": {},
   "source": [
    "### feature engineering"
   ]
  },
  {
   "cell_type": "code",
   "execution_count": 6,
   "metadata": {},
   "outputs": [],
   "source": [
    "def feature_engineering(df):\n",
    "    import scipy\n",
    "    from sklearn.feature_extraction.text import TfidfVectorizer, CountVectorizer\n",
    "\n",
    "    tfidf_vect = CountVectorizer(\n",
    "        analyzer='word',\n",
    "        token_pattern=r'\\w{1,}',\n",
    "        # gram_range=(1,2),\n",
    "        strip_accents='unicode',\n",
    "        stop_words='english'\n",
    "    )\n",
    "    tfidf_vect.fit(df['Model_Info'].unique())\n",
    "    X = tfidf_vect.transform(df['Model_Info'].values)\n",
    "    X = scipy.sparse.hstack((X, pd.get_dummies(df[['City', 'State', 'Brand']],\n",
    "                                               columns=['City', 'State', 'Brand'])))\n",
    "\n",
    "    return X"
   ]
  },
  {
   "cell_type": "code",
   "execution_count": 7,
   "metadata": {},
   "outputs": [
    {
     "data": {
      "text/plain": [
       "((2326, 1638), (997, 1638))"
      ]
     },
     "execution_count": 7,
     "metadata": {},
     "output_type": "execute_result"
    }
   ],
   "source": [
    "overall = train.append(test, ignore_index=True, sort=False)\n",
    "y = train[target]\n",
    "\n",
    "overall = feature_engineering(overall)\n",
    "\n",
    "train_data, test_data = overall.toarray()[:len(train)], overall.toarray()[len(train):]\n",
    "train_data.shape, test_data.shape"
   ]
  },
  {
   "cell_type": "markdown",
   "metadata": {},
   "source": [
    "### cross validation"
   ]
  },
  {
   "cell_type": "code",
   "execution_count": 8,
   "metadata": {},
   "outputs": [
    {
     "name": "stdout",
     "output_type": "stream",
     "text": [
      "FOLD:1 SCORE:0.428\n",
      "FOLD:2 SCORE:0.438\n",
      "FOLD:3 SCORE:0.434\n",
      "FOLD:4 SCORE:0.431\n",
      "FOLD:5 SCORE:0.324\n",
      "FOLD:6 SCORE:0.444\n",
      "FOLD:7 SCORE:0.381\n",
      "FOLD:8 SCORE:0.491\n",
      "FOLD:9 SCORE:0.395\n",
      "FOLD:10 SCORE:0.439\n",
      "CV score is 0.42048854203350716\n",
      "CPU times: user 4min 4s, sys: 3.41 s, total: 4min 7s\n",
      "Wall time: 21.6 s\n"
     ]
    }
   ],
   "source": [
    "%%time\n",
    "import lightgbm as lgb\n",
    "from sklearn.model_selection import KFold\n",
    "\n",
    "preds = []\n",
    "valid_score_list = []\n",
    "cv = KFold(n_splits=10)\n",
    "for i, (train_ind, test_ind) in enumerate(cv.split(train_data, y)):\n",
    "    X_train = train_data[train_ind]\n",
    "    X_valid = train_data[test_ind]\n",
    "    X_test = test_data.copy()\n",
    "\n",
    "    y_train = y[train_ind].values\n",
    "    y_valid = y[test_ind].values\n",
    "\n",
    "    clf = lgb.LGBMRegressor(n_jobs=-1,\n",
    "                            n_estimators=10000, \n",
    "                            learning_rate=0.01,                            \n",
    "                            min_child_samples=1, \n",
    "                            colsample_bytree=0.8,\n",
    "                            metric='rmse')\n",
    "    clf.fit(X_train, y_train,\n",
    "            eval_set=[(X_valid, y_valid)], \n",
    "            early_stopping_rounds=100, \n",
    "            verbose=0)\n",
    "    \n",
    "    valid_prediction = clf.predict(X_valid)\n",
    "    test_prediction = clf.predict(X_test)\n",
    "    valid_score = scoring((y_valid), (valid_prediction))\n",
    "    valid_score_list.append(valid_score)\n",
    "    print(\"FOLD:{} SCORE:{:0.3f}\".format(i+1, valid_score))\n",
    "    \n",
    "    preds.append(test_prediction)\n",
    "    \n",
    "print(\"CV score is {}\".format(np.mean(valid_score_list)))"
   ]
  },
  {
   "cell_type": "markdown",
   "metadata": {},
   "source": [
    "### submission"
   ]
  },
  {
   "cell_type": "code",
   "execution_count": 9,
   "metadata": {},
   "outputs": [],
   "source": [
    "prediction = np.mean(preds, axis=0)\n",
    "prediction = np.exp(prediction)"
   ]
  },
  {
   "cell_type": "code",
   "execution_count": 10,
   "metadata": {},
   "outputs": [
    {
     "data": {
      "text/html": [
       "<div>\n",
       "<style scoped>\n",
       "    .dataframe tbody tr th:only-of-type {\n",
       "        vertical-align: middle;\n",
       "    }\n",
       "\n",
       "    .dataframe tbody tr th {\n",
       "        vertical-align: top;\n",
       "    }\n",
       "\n",
       "    .dataframe thead th {\n",
       "        text-align: right;\n",
       "    }\n",
       "</style>\n",
       "<table border=\"1\" class=\"dataframe\">\n",
       "  <thead>\n",
       "    <tr style=\"text-align: right;\">\n",
       "      <th></th>\n",
       "      <th>Price</th>\n",
       "    </tr>\n",
       "  </thead>\n",
       "  <tbody>\n",
       "    <tr>\n",
       "      <th>0</th>\n",
       "      <td>15479.705248</td>\n",
       "    </tr>\n",
       "    <tr>\n",
       "      <th>1</th>\n",
       "      <td>8342.797437</td>\n",
       "    </tr>\n",
       "    <tr>\n",
       "      <th>2</th>\n",
       "      <td>14422.865689</td>\n",
       "    </tr>\n",
       "    <tr>\n",
       "      <th>3</th>\n",
       "      <td>44266.047814</td>\n",
       "    </tr>\n",
       "    <tr>\n",
       "      <th>4</th>\n",
       "      <td>7560.477714</td>\n",
       "    </tr>\n",
       "  </tbody>\n",
       "</table>\n",
       "</div>"
      ],
      "text/plain": [
       "          Price\n",
       "0  15479.705248\n",
       "1   8342.797437\n",
       "2  14422.865689\n",
       "3  44266.047814\n",
       "4   7560.477714"
      ]
     },
     "execution_count": 10,
     "metadata": {},
     "output_type": "execute_result"
    }
   ],
   "source": [
    "sub = pd.DataFrame(prediction, columns=[target])\n",
    "sub.to_excel(\"lgb_v2.xlsx\", index=None)\n",
    "sub.head()"
   ]
  },
  {
   "cell_type": "code",
   "execution_count": null,
   "metadata": {},
   "outputs": [],
   "source": []
  },
  {
   "cell_type": "code",
   "execution_count": null,
   "metadata": {},
   "outputs": [],
   "source": []
  }
 ],
 "metadata": {
  "kernelspec": {
   "display_name": "Python 3",
   "language": "python",
   "name": "python3"
  },
  "language_info": {
   "codemirror_mode": {
    "name": "ipython",
    "version": 3
   },
   "file_extension": ".py",
   "mimetype": "text/x-python",
   "name": "python",
   "nbconvert_exporter": "python",
   "pygments_lexer": "ipython3",
   "version": "3.6.9"
  },
  "toc": {
   "base_numbering": 1,
   "nav_menu": {},
   "number_sections": true,
   "sideBar": true,
   "skip_h1_title": false,
   "title_cell": "Table of Contents",
   "title_sidebar": "Contents",
   "toc_cell": true,
   "toc_position": {},
   "toc_section_display": true,
   "toc_window_display": true
  }
 },
 "nbformat": 4,
 "nbformat_minor": 4
}
